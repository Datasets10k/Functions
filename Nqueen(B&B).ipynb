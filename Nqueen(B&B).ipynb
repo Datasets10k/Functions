{
 "cells": [
  {
   "cell_type": "code",
   "execution_count": 1,
   "id": "0dcfc189-c301-427e-a96c-1c145fac6fd6",
   "metadata": {},
   "outputs": [
    {
     "name": "stdout",
     "output_type": "stream",
     "text": [
      "Branch and Bound Solution for N-Queens (N=4):\n",
      ". Q . .\n",
      ". . . Q\n",
      "Q . . .\n",
      ". . Q .\n",
      "\n",
      "\n"
     ]
    }
   ],
   "source": [
    "# N-Queens problem using Branch and Bound\n",
    "def print_solution(solution, N):\n",
    "    for i in range(N):\n",
    "        row = ['.'] * N\n",
    "        row[solution[i]] = 'Q'\n",
    "        print(\" \".join(row))\n",
    "    print(\"\\n\")\n",
    "\n",
    "def solve_n_queens_branch_and_bound(N):\n",
    "    # Arrays to mark columns, left diagonals, and right diagonals\n",
    "    col = [False] * N\n",
    "    left_diagonal = [False] * (2 * N - 1)\n",
    "    right_diagonal = [False] * (2 * N - 1)\n",
    "    solution = [-1] * N\n",
    "\n",
    "    def place_queen(row):\n",
    "        if row == N:\n",
    "            print_solution(solution, N)\n",
    "            return True\n",
    "\n",
    "        for i in range(N):\n",
    "            # Check if a queen can be placed at (row, i)\n",
    "            if not col[i] and not left_diagonal[row + i] and not right_diagonal[row - i + N - 1]:\n",
    "                # Place the queen\n",
    "                solution[row] = i\n",
    "                col[i] = left_diagonal[row + i] = right_diagonal[row - i + N - 1] = True\n",
    "\n",
    "                # Recur to place the rest of the queens\n",
    "                if place_queen(row + 1):\n",
    "                    return True\n",
    "\n",
    "                # Remove queen (backtrack)\n",
    "                col[i] = left_diagonal[row + i] = right_diagonal[row - i + N - 1] = False\n",
    "                solution[row] = -1\n",
    "\n",
    "        return False\n",
    "\n",
    "    if not place_queen(0):\n",
    "        print(\"No solution found.\")\n",
    "\n",
    "# Example Usage for Branch and Bound\n",
    "N = 4\n",
    "print(\"Branch and Bound Solution for N-Queens (N=4):\")\n",
    "solve_n_queens_branch_and_bound(N)"
   ]
  },
  {
   "cell_type": "code",
   "execution_count": null,
   "id": "b5210a0c-3114-4563-b83f-384973e7aa64",
   "metadata": {},
   "outputs": [],
   "source": []
  }
 ],
 "metadata": {
  "kernelspec": {
   "display_name": "Python 3 (ipykernel)",
   "language": "python",
   "name": "python3"
  },
  "language_info": {
   "codemirror_mode": {
    "name": "ipython",
    "version": 3
   },
   "file_extension": ".py",
   "mimetype": "text/x-python",
   "name": "python",
   "nbconvert_exporter": "python",
   "pygments_lexer": "ipython3",
   "version": "3.12.7"
  }
 },
 "nbformat": 4,
 "nbformat_minor": 5
}

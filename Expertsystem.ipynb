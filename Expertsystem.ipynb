{
 "cells": [
  {
   "cell_type": "code",
   "execution_count": null,
   "id": "9338c82b-8918-4c94-b713-69e4a22448ff",
   "metadata": {},
   "outputs": [
    {
     "name": "stdout",
     "output_type": "stream",
     "text": [
      "Welcome to the Medical Diagnosis Expert System\n",
      "Please enter your symptoms (type 'done' when finished):\n"
     ]
    }
   ],
   "source": [
    "# A simple rule-based expert system for medical diagnosis\n",
    "\n",
    "# Define a dictionary to hold symptom-based rules for diagnosis\n",
    "diagnoses_rules = {\n",
    "    \"Common Cold\": [\"cough\", \"sore throat\", \"runny nose\", \"sneezing\"],\n",
    "    \"Flu\": [\"fever\", \"cough\", \"sore throat\", \"headache\", \"fatigue\"],\n",
    "    \"COVID-19\": [\"fever\", \"cough\", \"fatigue\", \"difficulty breathing\", \"loss of taste or smell\"],\n",
    "    \"Malaria\": [\"fever\", \"chills\", \"headache\", \"sweating\", \"nausea\"],\n",
    "    \"Allergies\": [\"sneezing\", \"runny nose\", \"itchy eyes\", \"cough\"]\n",
    "}\n",
    "\n",
    "# Function to match user symptoms with possible diagnoses\n",
    "def diagnose(symptoms):\n",
    "    possible_diagnoses = {}\n",
    "    for diagnosis, rule_symptoms in diagnoses_rules.items():\n",
    "        # Count how many of the user's symptoms match this diagnosis\n",
    "        match_count = len(set(symptoms).intersection(rule_symptoms))\n",
    "        if match_count > 0:\n",
    "            possible_diagnoses[diagnosis] = match_count / len(rule_symptoms)\n",
    "    \n",
    "    # Sort diagnoses by match percentage in descending order\n",
    "    sorted_diagnoses = sorted(possible_diagnoses.items(), key=lambda x: x[1], reverse=True)\n",
    "    \n",
    "    # Output the possible diagnoses\n",
    "    if sorted_diagnoses:\n",
    "        print(\"\\nBased on your symptoms, here are the possible diagnoses (ranked by relevance):\")\n",
    "        for diagnosis, confidence in sorted_diagnoses:\n",
    "            print(f\"- {diagnosis} (Confidence: {confidence * 100:.1f}%)\")\n",
    "    else:\n",
    "        print(\"No matching diagnosis found. Please consult a medical professional.\")\n",
    "\n",
    "# Collect symptoms from the user\n",
    "def collect_symptoms():\n",
    "    print(\"Please enter your symptoms (type 'done' when finished):\")\n",
    "    symptoms = []\n",
    "    while True:\n",
    "        symptom = input(\"Symptom: \").strip().lower()\n",
    "        if symptom == \"done\":\n",
    "            break\n",
    "        symptoms.append(symptom)\n",
    "    return symptoms\n",
    "\n",
    "# Run the medical diagnosis expert system\n",
    "def run_expert_system():\n",
    "    print(\"Welcome to the Medical Diagnosis Expert System\")\n",
    "    symptoms = collect_symptoms()\n",
    "    diagnose(symptoms)\n",
    "\n",
    "# Example usage\n",
    "run_expert_system()"
   ]
  },
  {
   "cell_type": "code",
   "execution_count": null,
   "id": "c0728884-08c5-4809-869e-26b17e464968",
   "metadata": {},
   "outputs": [],
   "source": []
  }
 ],
 "metadata": {
  "kernelspec": {
   "display_name": "Python 3 (ipykernel)",
   "language": "python",
   "name": "python3"
  },
  "language_info": {
   "codemirror_mode": {
    "name": "ipython",
    "version": 3
   },
   "file_extension": ".py",
   "mimetype": "text/x-python",
   "name": "python",
   "nbconvert_exporter": "python",
   "pygments_lexer": "ipython3",
   "version": "3.12.7"
  }
 },
 "nbformat": 4,
 "nbformat_minor": 5
}

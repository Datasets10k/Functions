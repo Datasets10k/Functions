{
 "cells": [
  {
   "cell_type": "code",
   "execution_count": 1,
   "id": "86b75a9a-b310-4260-b9fe-ecf7e63335d2",
   "metadata": {},
   "outputs": [
    {
     "name": "stdout",
     "output_type": "stream",
     "text": [
      "Backtracking Solution for N-Queens (N=4):\n",
      ". . Q .\n",
      "Q . . .\n",
      ". . . Q\n",
      ". Q . .\n",
      "\n",
      "\n"
     ]
    }
   ],
   "source": [
    "# N-Queens problem using Backtracking\n",
    "def print_board(board, N):\n",
    "    for row in board:\n",
    "        print(\" \".join(\"Q\" if col else \".\" for col in row))\n",
    "    print(\"\\n\")\n",
    "\n",
    "def is_safe(board, row, col, N):\n",
    "    # Check this row on the left side\n",
    "    for i in range(col):\n",
    "        if board[row][i] == 1:\n",
    "            return False\n",
    "\n",
    "    # Check upper diagonal on the left side\n",
    "    for i, j in zip(range(row, -1, -1), range(col, -1, -1)):\n",
    "        if board[i][j] == 1:\n",
    "            return False\n",
    "\n",
    "    # Check lower diagonal on the left side\n",
    "    for i, j in zip(range(row, N), range(col, -1, -1)):\n",
    "        if board[i][j] == 1:\n",
    "            return False\n",
    "\n",
    "    return True\n",
    "\n",
    "def solve_n_queens_backtracking(board, col, N):\n",
    "    # If all queens are placed, return True\n",
    "    if col >= N:\n",
    "        return True\n",
    "\n",
    "    # Try placing this queen in all rows one by one\n",
    "    for i in range(N):\n",
    "        if is_safe(board, i, col, N):\n",
    "            board[i][col] = 1  # Place queen\n",
    "\n",
    "            # Recur to place rest of the queens\n",
    "            if solve_n_queens_backtracking(board, col + 1, N):\n",
    "                return True\n",
    "\n",
    "            # If placing queen in board[i][col] doesn't lead to a solution,\n",
    "            # then remove queen (backtrack)\n",
    "            board[i][col] = 0\n",
    "\n",
    "    return False\n",
    "\n",
    "# Initialize and solve the board\n",
    "def n_queens_backtracking(N):\n",
    "    board = [[0] * N for _ in range(N)]\n",
    "    if solve_n_queens_backtracking(board, 0, N):\n",
    "        print_board(board, N)\n",
    "    else:\n",
    "        print(\"No solution found.\")\n",
    "\n",
    "# Example Usage for Backtracking\n",
    "N = 4\n",
    "print(\"Backtracking Solution for N-Queens (N=4):\")\n",
    "n_queens_backtracking(N)"
   ]
  },
  {
   "cell_type": "code",
   "execution_count": null,
   "id": "0f5a35bb-4521-484c-8ec5-3a39600948ef",
   "metadata": {},
   "outputs": [],
   "source": []
  }
 ],
 "metadata": {
  "kernelspec": {
   "display_name": "Python 3 (ipykernel)",
   "language": "python",
   "name": "python3"
  },
  "language_info": {
   "codemirror_mode": {
    "name": "ipython",
    "version": 3
   },
   "file_extension": ".py",
   "mimetype": "text/x-python",
   "name": "python",
   "nbconvert_exporter": "python",
   "pygments_lexer": "ipython3",
   "version": "3.12.7"
  }
 },
 "nbformat": 4,
 "nbformat_minor": 5
}

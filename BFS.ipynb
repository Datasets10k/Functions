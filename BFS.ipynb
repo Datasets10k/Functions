{
 "cells": [
  {
   "cell_type": "code",
   "execution_count": 6,
   "id": "e86786a2-1eb4-4f02-825b-ba753fa875da",
   "metadata": {},
   "outputs": [
    {
     "name": "stdout",
     "output_type": "stream",
     "text": [
      "Visiting node: A with cost: 7\n",
      "Visiting node: C with cost: 3\n",
      "Visiting node: G with cost: 2\n",
      "Visiting node: D with cost: 5\n",
      "Visiting node: H with cost: 3\n",
      "Visiting node: B with cost: 6\n",
      "Visiting node: F with cost: 0\n",
      "Goal reached!\n"
     ]
    }
   ],
   "source": [
    "import heapq\n",
    "\n",
    "# Graph represented as an adjacency list with heuristic values\n",
    "graph = {\n",
    "    'A': [('B', 1), ('C', 3), ('D', 7)],\n",
    "    'B': [('A', 1), ('E', 6), ('F', 2)],\n",
    "    'C': [('A', 3), ('G', 4)],\n",
    "    'D': [('A', 7), ('H', 5)],\n",
    "    'E': [('B', 6)],\n",
    "    'F': [('B', 2)],\n",
    "    'G': [('C', 4)],\n",
    "    'H': [('D', 5)]\n",
    "}\n",
    "\n",
    "# Heuristic function for each node (for demonstration purposes)\n",
    "heuristics = {\n",
    "    'A': 7,\n",
    "    'B': 6,\n",
    "    'C': 3,\n",
    "    'D': 5,\n",
    "    'E': 1,\n",
    "    'F': 0,\n",
    "    'G': 2,\n",
    "    'H': 3\n",
    "}\n",
    "\n",
    "def best_first_search(graph, start, goal):\n",
    "    # Priority queue with initial node and heuristic\n",
    "    open_list = [(heuristics[start], start)]\n",
    "    heapq.heapify(open_list)\n",
    "    \n",
    "    # Track visited nodes to avoid cycles\n",
    "    visited = set()\n",
    "\n",
    "    while open_list:\n",
    "        # Pop the node with the lowest heuristic value\n",
    "        cost, current_node = heapq.heappop(open_list)\n",
    "        \n",
    "        # Mark the node as visited\n",
    "        visited.add(current_node)\n",
    "        \n",
    "        # Print the node being visited\n",
    "        print(f\"Visiting node: {current_node} with cost: {cost}\")\n",
    "        \n",
    "        # Goal test\n",
    "        if current_node == goal:\n",
    "            print(\"Goal reached!\")\n",
    "            return\n",
    "        \n",
    "        # Explore neighbors\n",
    "        for neighbor, edge_cost in graph[current_node]:\n",
    "            if neighbor not in visited:\n",
    "                heapq.heappush(open_list, (heuristics[neighbor], neighbor))\n",
    "\n",
    "# Test the function\n",
    "best_first_search(graph,'A','F')"
   ]
  },
  {
   "cell_type": "code",
   "execution_count": null,
   "id": "a071b42a-6a0d-43f0-836d-e04e0d8030d8",
   "metadata": {},
   "outputs": [],
   "source": []
  }
 ],
 "metadata": {
  "kernelspec": {
   "display_name": "Python 3 (ipykernel)",
   "language": "python",
   "name": "python3"
  },
  "language_info": {
   "codemirror_mode": {
    "name": "ipython",
    "version": 3
   },
   "file_extension": ".py",
   "mimetype": "text/x-python",
   "name": "python",
   "nbconvert_exporter": "python",
   "pygments_lexer": "ipython3",
   "version": "3.12.7"
  }
 },
 "nbformat": 4,
 "nbformat_minor": 5
}

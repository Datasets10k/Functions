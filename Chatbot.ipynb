{
 "cells": [
  {
   "cell_type": "code",
   "execution_count": null,
   "id": "ceb2fc45-c213-4d81-88a6-6801da83f989",
   "metadata": {},
   "outputs": [
    {
     "name": "stdout",
     "output_type": "stream",
     "text": [
      "Welcome to the Customer Support Chatbot!\n",
      "Type 'bye' to exit.\n"
     ]
    },
    {
     "name": "stdin",
     "output_type": "stream",
     "text": [
      "You:  hiie\n"
     ]
    },
    {
     "name": "stdout",
     "output_type": "stream",
     "text": [
      "Chatbot: Hello! How can I assist you today?\n"
     ]
    },
    {
     "name": "stdin",
     "output_type": "stream",
     "text": [
      "You:  make a table of 5\n"
     ]
    },
    {
     "name": "stdout",
     "output_type": "stream",
     "text": [
      "Chatbot: I'm sorry, I didn't quite understand that. Could you please rephrase your question?\n"
     ]
    }
   ],
   "source": [
    "# Simple rule-based chatbot for customer inquiries\n",
    "\n",
    "# Predefined responses for common questions\n",
    "responses = {\n",
    "    \"hi\": \"Hello! How can I assist you today?\",\n",
    "    \"hello\": \"Hello! How can I assist you today?\",\n",
    "    \"how are you\": \"I'm here to assist you with any questions. How can I help?\",\n",
    "    \"what is your name\": \"I am a virtual assistant created to help answer your questions.\",\n",
    "    \n",
    "    # Customer Inquiry Responses\n",
    "    \"order status\": \"Could you please provide your order ID so I can check the status for you?\",\n",
    "    \"shipping time\": \"Typically, orders are shipped within 3-5 business days. Do you need more specific information?\",\n",
    "    \"return policy\": \"Our return policy allows for returns within 30 days of purchase. Let me know if you need more details.\",\n",
    "    \"refund policy\": \"Refunds are typically processed within 5-7 business days after receiving the returned item.\",\n",
    "    \"payment options\": \"We accept credit cards, debit cards, and PayPal. Let me know if you have any questions about payment methods.\",\n",
    "    \"product details\": \"Can you specify which product you're interested in? I can provide more details.\",\n",
    "    \"support\": \"I'm here to help with any support questions. Please let me know your issue in detail.\",\n",
    "    \n",
    "    # Farewell\n",
    "    \"bye\": \"Thank you for reaching out! Have a great day!\",\n",
    "    \"goodbye\": \"Thank you for reaching out! Have a great day!\",\n",
    "}\n",
    "\n",
    "# Function to handle user input and generate response\n",
    "def chatbot_response(user_input):\n",
    "    user_input = user_input.lower()\n",
    "    # Check for specific keywords in the user input\n",
    "    for keyword in responses:\n",
    "        if keyword in user_input:\n",
    "            return responses[keyword]\n",
    "    # Default response if input is not recognized\n",
    "    return \"I'm sorry, I didn't quite understand that. Could you please rephrase your question?\"\n",
    "\n",
    "# Simple loop to keep the chatbot running\n",
    "def run_chatbot():\n",
    "    print(\"Welcome to the Customer Support Chatbot!\")\n",
    "    print(\"Type 'bye' to exit.\")\n",
    "    \n",
    "    while True:\n",
    "        user_input = input(\"You: \")\n",
    "        if user_input.lower() in [\"bye\", \"goodbye\"]:\n",
    "            print(\"Chatbot:\", chatbot_response(\"bye\"))\n",
    "            break\n",
    "        response = chatbot_response(user_input)\n",
    "        print(\"Chatbot:\", response)\n",
    "\n",
    "# Start the chatbot\n",
    "run_chatbot()"
   ]
  },
  {
   "cell_type": "code",
   "execution_count": null,
   "id": "5d556895-4da3-4b65-983f-3ad24394cccf",
   "metadata": {},
   "outputs": [],
   "source": []
  }
 ],
 "metadata": {
  "kernelspec": {
   "display_name": "Python 3 (ipykernel)",
   "language": "python",
   "name": "python3"
  },
  "language_info": {
   "codemirror_mode": {
    "name": "ipython",
    "version": 3
   },
   "file_extension": ".py",
   "mimetype": "text/x-python",
   "name": "python",
   "nbconvert_exporter": "python",
   "pygments_lexer": "ipython3",
   "version": "3.12.7"
  }
 },
 "nbformat": 4,
 "nbformat_minor": 5
}
